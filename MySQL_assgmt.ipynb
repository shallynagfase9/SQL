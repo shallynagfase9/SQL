{
  "nbformat": 4,
  "nbformat_minor": 0,
  "metadata": {
    "colab": {
      "provenance": [],
      "authorship_tag": "ABX9TyPj48TRIwIWShUvaC4i14/U",
      "include_colab_link": true
    },
    "kernelspec": {
      "name": "python3",
      "display_name": "Python 3"
    },
    "language_info": {
      "name": "python"
    }
  },
  "cells": [
    {
      "cell_type": "markdown",
      "metadata": {
        "id": "view-in-github",
        "colab_type": "text"
      },
      "source": [
        "<a href=\"https://colab.research.google.com/github/shallynagfase9/SQL/blob/main/MySQL_assgmt.ipynb\" target=\"_parent\"><img src=\"https://colab.research.google.com/assets/colab-badge.svg\" alt=\"Open In Colab\"/></a>"
      ]
    },
    {
      "cell_type": "code",
      "execution_count": null,
      "metadata": {
        "id": "rkkzynJQNMRE"
      },
      "outputs": [],
      "source": [
        "# Q1. What is a database? Differentiate between SQL and NoSQL databases.\n",
        "# A database is a collection of data that is organized and stored in a way that allows for efficient retrieval and manipulation of the data.\n",
        "# SQL and NoSQL are two types of databases that differ in their data models, query languages, scalability, and use cases.\n",
        "# SQL databases are relational, meaning they store data in tables with predefined schemas and use SQL to query and manage data.\n",
        "# NoSQL databases are non-relational and use dynamic schemas to store and retrieve data in various formats, such as documents, key-value pairs, graphs, or wide-column stores."
      ]
    },
    {
      "cell_type": "code",
      "source": [
        "# Q2. What is DDL? Explain why CREATE, DROP, ALTER, and TRUNCATE are used with an example.\n",
        "# Data Definition Language (DDL) is a set of SQL commands used to create, modify, and remove the structures of a database, such as tables, indexes, and schemas.\n",
        "# CREATE: This command is used to create new database objects, such as tables, indexes, and databases.\n",
        "'''\n",
        "CREATE TABLE employees (\n",
        "  id INTEGER PRIMARY KEY,\n",
        "  first_name VARCHAR(50) NOT NULL,\n",
        "  last_name VARCHAR(75) NOT NULL,\n",
        "  mid_name VARCHAR(50) NOT NULL,\n",
        "  dateofbirth DATE NOT NULL\n",
        ");\n",
        "'''\n",
        "# ALTER: This command is used to modify existing database objects, such as adding or modifying columns, constraints, or indexes.\n",
        "'''\n",
        "ALTER TABLE employees ADD COLUMN salary DECIMAL(10,2);\n",
        "ALTER TABLE employees ADD CONSTRAINT fk_department_id FOREIGN KEY (department_id) REFERENCES departments(id);\n",
        "'''\n",
        "# DROP: This command is used to remove database objects, such as tables, indexes, and databases.\n",
        "'''\n",
        "DROP TABLE employees;\n",
        "'''\n",
        "# TRUNCATE: This command is used to remove all data from a table while preserving its structure.\n",
        "'''\n",
        "TRUNCATE TABLE employees;\n",
        "'''"
      ],
      "metadata": {
        "id": "dG6xycaczSBj"
      },
      "execution_count": null,
      "outputs": []
    },
    {
      "cell_type": "code",
      "source": [
        "# Q3. What is DML? Explain INSERT, UPDATE, and DELETE with an example.\n",
        "# Data Manipulation Language (DML) is a set of SQL commands used to manipulate data within a database. The primary DML commands are:\n",
        "'''\n",
        "SELECT: This command is used to retrieve data from the database.\n",
        "SELECT * FROM Employees;\n",
        "INSERT: This command is used to insert data into a table.\n",
        "INSERT INTO Employees (Emp_id, Emp_name) VALUES (101, 'Kira');\n",
        "UPDATE: This command is used to update existing data within a table.\n",
        "UPDATE Employees SET Emp_name = 'Jane Doe' WHERE Emp_id = 101;\n",
        "DELETE: This command is used to delete records from a database table.\n",
        "DELETE FROM Employees WHERE Emp_id = 101;\n",
        "'''"
      ],
      "metadata": {
        "id": "jf-lBPgSz1VI"
      },
      "execution_count": null,
      "outputs": []
    },
    {
      "cell_type": "code",
      "source": [
        "# Q4. What is DQL? Explain SELECT with an example.\n",
        "# DQL (Data Query Language) is used to retrieve data from a database using SQL-like syntax.\n",
        "'''\n",
        "SELECT u, UPPER(u.name) AS upper_name\n",
        "FROM Users u\n",
        "WHERE u.age > 20;\n",
        "'''"
      ],
      "metadata": {
        "id": "_GhEm-DR0J9g"
      },
      "execution_count": null,
      "outputs": []
    },
    {
      "cell_type": "code",
      "source": [
        "# Q5. Explain Primary Key and Foreign Key.\n",
        "'''\n",
        "Primary Key\n",
        "A primary key is a column or combination of columns in a table that uniquely identifies each row in the table. It ensures that each row has a unique identifier, and it cannot contain null values. The primary key is used to enforce entity integrity, which means that each row in the table must have a unique value for its primary key.\n",
        "Foreign Key\n",
        "A foreign key is a column or group of columns in a relational database table that references the primary key of another table. It establishes a link between two tables, allowing for the maintenance of referential integrity. The foreign key column(s) must contain values that exist in the primary key column(s) of the referenced table.\n",
        "\n",
        "'''"
      ],
      "metadata": {
        "id": "lQ3gfFjP4DI_"
      },
      "execution_count": null,
      "outputs": []
    },
    {
      "cell_type": "code",
      "source": [
        "# Q6. Write a python code to connect MySQL to python. Explain the cursor() and execute() method.\n",
        "'''\n",
        "import mysql.connector\n",
        "\n",
        "cnx = mysql.connector.connect(\n",
        "    user='your_username',\n",
        "    password='your_password',\n",
        "    host='your_host',\n",
        "    database='your_database'\n",
        ")\n",
        "\n",
        "cursor = cnx.cursor()\n",
        "\n",
        "query = 'SHOW TABLES'\n",
        "cursor.execute(query)\n",
        "\n",
        "results = cursor.fetchall()\n",
        "for row in results:\n",
        "    print(row)\n",
        "\n",
        "cursor.close()\n",
        "cnx.close()\n",
        "'''\n",
        "'''The cursor() method is used to create a cursor object, which interacts with the MySQL server using the connection object.\n",
        "The execute() method is used to execute SQL queries or commands.'''"
      ],
      "metadata": {
        "id": "EmXP22Gk4Tia"
      },
      "execution_count": null,
      "outputs": []
    },
    {
      "cell_type": "code",
      "source": [
        "# Q7. Give the order of execution of SQL clauses in an SQL query.\n",
        "'''\n",
        "The order of execution of SQL clauses in a query is as follows:\n",
        "FROM/JOIN\n",
        "WHERE\n",
        "GROUP BY\n",
        "HAVING\n",
        "SELECT\n",
        "ORDER BY\n",
        "LIMIT/OFFSET\n",
        "'''"
      ],
      "metadata": {
        "id": "8gxvxNUo4sJ3"
      },
      "execution_count": null,
      "outputs": []
    }
  ]
}